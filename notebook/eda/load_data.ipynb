{
 "cells": [
  {
   "cell_type": "code",
   "execution_count": null,
   "metadata": {},
   "outputs": [],
   "source": []
  },
  {
   "cell_type": "code",
   "execution_count": 1,
   "metadata": {},
   "outputs": [],
   "source": [
    "# 0. 모듈 불러오기\n",
    "\n",
    "import pandas as pd\n",
    "import numpy as np"
   ]
  },
  {
   "cell_type": "code",
   "execution_count": 2,
   "metadata": {},
   "outputs": [],
   "source": [
    "# 1. 데이터 불러오기\n",
    "\n",
    "train_data = pd.read_json('../../data/train.json', encoding='UTF-8', typ = 'frame')\n",
    "song_meta = pd.read_json('../../data/song_meta.json', encoding='UTF-8', typ = 'frame')\n",
    "genre_gn_all = pd.read_json('../../data/genre_gn_all.json',encoding='UTF-8', typ = 'series')\n",
    "genre_gn_all = pd.DataFrame(genre_gn_all, columns = ['gnr_name']).reset_index().rename(columns = {'index' : 'gnr_code'})"
   ]
  },
  {
   "cell_type": "code",
   "execution_count": 3,
   "metadata": {},
   "outputs": [
    {
     "data": {
      "text/plain": "                                                tags      id  \\\n0                                                [락]   61281   \n1                                           [추억, 회상]   10532   \n2                                          [까페, 잔잔한]   76951   \n3  [연말, 눈오는날, 캐럴, 분위기, 따듯한, 크리스마스캐럴, 겨울노래, 크리스마스,...  147456   \n4                                               [댄스]   27616   \n\n            plylst_title                                              songs  \\\n0                여행같은 음악  [525514, 129701, 383374, 562083, 297861, 13954...   \n1                요즘 너 말야  [432406, 675945, 497066, 120377, 389529, 24427...   \n2  편하게, 잔잔하게 들을 수 있는 곡.-  [83116, 276692, 166267, 186301, 354465, 256598...   \n3  크리스마스 분위기에 흠뻑 취하고 싶을때  [394031, 195524, 540149, 287984, 440773, 10033...   \n4               추억의 노래 ㅋ  [159327, 553610, 5130, 645103, 294435, 100657,...   \n\n   like_cnt                updt_date  \n0        71  2013-12-19 18:36:19.000  \n1         1  2014-12-02 16:19:42.000  \n2        17  2017-08-28 07:09:34.000  \n3        33  2019-12-05 15:15:18.000  \n4         9  2011-10-25 13:54:56.000  ",
      "text/html": "<div>\n<style scoped>\n    .dataframe tbody tr th:only-of-type {\n        vertical-align: middle;\n    }\n\n    .dataframe tbody tr th {\n        vertical-align: top;\n    }\n\n    .dataframe thead th {\n        text-align: right;\n    }\n</style>\n<table border=\"1\" class=\"dataframe\">\n  <thead>\n    <tr style=\"text-align: right;\">\n      <th></th>\n      <th>tags</th>\n      <th>id</th>\n      <th>plylst_title</th>\n      <th>songs</th>\n      <th>like_cnt</th>\n      <th>updt_date</th>\n    </tr>\n  </thead>\n  <tbody>\n    <tr>\n      <th>0</th>\n      <td>[락]</td>\n      <td>61281</td>\n      <td>여행같은 음악</td>\n      <td>[525514, 129701, 383374, 562083, 297861, 13954...</td>\n      <td>71</td>\n      <td>2013-12-19 18:36:19.000</td>\n    </tr>\n    <tr>\n      <th>1</th>\n      <td>[추억, 회상]</td>\n      <td>10532</td>\n      <td>요즘 너 말야</td>\n      <td>[432406, 675945, 497066, 120377, 389529, 24427...</td>\n      <td>1</td>\n      <td>2014-12-02 16:19:42.000</td>\n    </tr>\n    <tr>\n      <th>2</th>\n      <td>[까페, 잔잔한]</td>\n      <td>76951</td>\n      <td>편하게, 잔잔하게 들을 수 있는 곡.-</td>\n      <td>[83116, 276692, 166267, 186301, 354465, 256598...</td>\n      <td>17</td>\n      <td>2017-08-28 07:09:34.000</td>\n    </tr>\n    <tr>\n      <th>3</th>\n      <td>[연말, 눈오는날, 캐럴, 분위기, 따듯한, 크리스마스캐럴, 겨울노래, 크리스마스,...</td>\n      <td>147456</td>\n      <td>크리스마스 분위기에 흠뻑 취하고 싶을때</td>\n      <td>[394031, 195524, 540149, 287984, 440773, 10033...</td>\n      <td>33</td>\n      <td>2019-12-05 15:15:18.000</td>\n    </tr>\n    <tr>\n      <th>4</th>\n      <td>[댄스]</td>\n      <td>27616</td>\n      <td>추억의 노래 ㅋ</td>\n      <td>[159327, 553610, 5130, 645103, 294435, 100657,...</td>\n      <td>9</td>\n      <td>2011-10-25 13:54:56.000</td>\n    </tr>\n  </tbody>\n</table>\n</div>"
     },
     "execution_count": 3,
     "metadata": {},
     "output_type": "execute_result"
    }
   ],
   "source": [
    "# 1-1. 불러온 데이터 확인\n",
    "train_data.head()"
   ]
  },
  {
   "cell_type": "code",
   "execution_count": 7,
   "metadata": {},
   "outputs": [
    {
     "name": "stdout",
     "output_type": "stream",
     "text": [
      "[525514, 129701, 383374, 562083, 297861, 139541, 351214, 650298, 531057, 205238, 706183, 127099, 660493, 461973, 121455, 72552, 223955, 324992, 50104]\n"
     ]
    }
   ],
   "source": [
    "song_meta.head()"
   ]
  },
  {
   "cell_type": "code",
   "execution_count": 5,
   "metadata": {
    "scrolled": true,
    "pycharm": {
     "name": "#%%\n"
    }
   },
   "outputs": [
    {
     "data": {
      "text/plain": "  gnr_code gnr_name\n0   GN0100      발라드\n1   GN0101   세부장르전체\n2   GN0102      '80\n3   GN0103      '90\n4   GN0104      '00",
      "text/html": "<div>\n<style scoped>\n    .dataframe tbody tr th:only-of-type {\n        vertical-align: middle;\n    }\n\n    .dataframe tbody tr th {\n        vertical-align: top;\n    }\n\n    .dataframe thead th {\n        text-align: right;\n    }\n</style>\n<table border=\"1\" class=\"dataframe\">\n  <thead>\n    <tr style=\"text-align: right;\">\n      <th></th>\n      <th>gnr_code</th>\n      <th>gnr_name</th>\n    </tr>\n  </thead>\n  <tbody>\n    <tr>\n      <th>0</th>\n      <td>GN0100</td>\n      <td>발라드</td>\n    </tr>\n    <tr>\n      <th>1</th>\n      <td>GN0101</td>\n      <td>세부장르전체</td>\n    </tr>\n    <tr>\n      <th>2</th>\n      <td>GN0102</td>\n      <td>'80</td>\n    </tr>\n    <tr>\n      <th>3</th>\n      <td>GN0103</td>\n      <td>'90</td>\n    </tr>\n    <tr>\n      <th>4</th>\n      <td>GN0104</td>\n      <td>'00</td>\n    </tr>\n  </tbody>\n</table>\n</div>"
     },
     "execution_count": 5,
     "metadata": {},
     "output_type": "execute_result"
    }
   ],
   "source": [
    "genre_gn_all.head()"
   ]
  },
  {
   "cell_type": "code",
   "execution_count": null,
   "outputs": [],
   "source": [],
   "metadata": {
    "collapsed": false,
    "pycharm": {
     "name": "#%%\n"
    }
   }
  }
 ],
 "metadata": {
  "kernelspec": {
   "display_name": "Python 3",
   "language": "python",
   "name": "python3"
  },
  "language_info": {
   "codemirror_mode": {
    "name": "ipython",
    "version": 3
   },
   "file_extension": ".py",
   "mimetype": "text/x-python",
   "name": "python",
   "nbconvert_exporter": "python",
   "pygments_lexer": "ipython3",
   "version": "3.8.5"
  }
 },
 "nbformat": 4,
 "nbformat_minor": 4
}