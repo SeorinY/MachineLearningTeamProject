{
 "cells": [
  {
   "cell_type": "markdown",
   "metadata": {
    "pycharm": {
     "name": "#%% md\n"
    }
   },
   "source": [
    "# 데이터 전처리"
   ]
  },
  {
   "cell_type": "code",
   "execution_count": 4,
   "outputs": [],
   "source": [
    "import numpy as np\n",
    "import pandas as pd\n",
    "import matplotlib.pyplot as plt\n",
    "import seaborn as sns\n",
    "import import_ipynb\n",
    "import json\n",
    "import distutils.dir_util\n",
    "import io\n",
    "import os\n",
    "import sys\n",
    "sys.path.append(os.path.dirname(os.path.abspath(os.path.dirname(''))))\n",
    "from eda.load_data import train_data;\n",
    "from eda.load_data import song_meta;\n",
    "from eda.load_data import genre_gn_all;\n",
    "plt.style.use('seaborn')\n",
    "sns.set(font_scale = 2.5)\n",
    "import warnings\n",
    "warnings.filterwarnings('ignore')\n",
    "%matplotlib inline"
   ],
   "metadata": {
    "collapsed": false,
    "pycharm": {
     "name": "#%%\n"
    }
   }
  },
  {
   "cell_type": "markdown",
   "source": [
    "### 이름에 크리스마스, 캐럴이 포함된 플레이스트  개수, 목록"
   ],
   "metadata": {
    "collapsed": false,
    "pycharm": {
     "name": "#%% md\n"
    }
   }
  },
  {
   "cell_type": "code",
   "execution_count": 4,
   "outputs": [
    {
     "name": "stdout",
     "output_type": "stream",
     "text": [
      "1634\n"
     ]
    }
   ],
   "source": [
    "playlist = []\n",
    "for index in train_data.index:\n",
    "    tag = train_data['plylst_title'][index]\n",
    "    if('크리스마스' in tag or '캐럴' in tag or '캐롤' in tag):\n",
    "        playlist.append(index)\n",
    "print(len(playlist))"
   ],
   "metadata": {
    "collapsed": false,
    "pycharm": {
     "name": "#%%\n"
    }
   }
  },
  {
   "cell_type": "code",
   "execution_count": 6,
   "outputs": [],
   "source": [
    "i=0\n",
    "playlist_train = pd.DataFrame([], columns=[\"Index\", \"tags\", \"id\", \"plylst_title\", \"songs\", \"like_cnt\", \"updt_date\"])\n",
    "for row in train_data.itertuples():\n",
    "    if row.Index in playlist :\n",
    "        playlist_train.loc[i] = row\n",
    "        i+= 1"
   ],
   "metadata": {
    "collapsed": false,
    "pycharm": {
     "name": "#%%\n"
    }
   }
  },
  {
   "cell_type": "code",
   "execution_count": 7,
   "outputs": [],
   "source": [
    "#carol 리스트에 캐롤 추가해주기   - 한번만 돌리기\n",
    "carol_list = []\n",
    "for index in playlist:  # 크리스마스 플레이리스트 번호 돌기\n",
    "    for songs in train_data['songs'][index]:\n",
    "        if songs not in carol_list:\n",
    "            carol_list.append(songs)"
   ],
   "metadata": {
    "collapsed": false,
    "pycharm": {
     "name": "#%%\n"
    }
   }
  },
  {
   "cell_type": "code",
   "execution_count": 8,
   "outputs": [],
   "source": [
    "i=0\n",
    "carol_data = pd.DataFrame([], columns=[\"Index\",\"song_gn_dtl_gnr_basket\",\"issue_date\",\"album_name\",\"album_id\",\"artist_id_basket\",\"song_name\",\"song_gn_gnr_basket\",\"artist_name_basket\", \"id\"])\n",
    "for row in song_meta.itertuples():\n",
    "    if row.Index in carol_list :\n",
    "        carol_data.loc[i] = row\n",
    "        i += 1"
   ],
   "metadata": {
    "collapsed": false,
    "pycharm": {
     "name": "#%%\n"
    }
   }
  },
  {
   "cell_type": "code",
   "execution_count": 46,
   "outputs": [
    {
     "data": {
      "text/plain": "                                                tags      id  \\\n0  [연말, 눈오는날, 캐럴, 분위기, 따듯한, 크리스마스캐럴, 겨울노래, 크리스마스,...  147456   \n1                                    [겨울, 크리스마스, 캐롤]   43665   \n2                                     [분위기좋은, 크리스마스]   60192   \n3                                         [휴식, 기분전환]  101383   \n4                                               [겨울]   43159   \n\n            plylst_title                                              songs  \\\n0  크리스마스 분위기에 흠뻑 취하고 싶을때  [394031, 195524, 540149, 287984, 440773, 10033...   \n1       크리스마스를 책임질 캐롤 모음  [273672, 358186, 657321, 610130, 387284, 51860...   \n2           느낌있는 크리스마스 쏭  [187632, 432118, 557519, 423058, 387647, 61771...   \n3                 크리스마스9  [405485, 381653, 566122, 546313, 158539, 68697...   \n4            미리 메리 크리스마스  [326204, 174967, 117169, 703323, 638488, 59252...   \n\n  like_cnt                updt_date  \n0       33  2019-12-05 15:15:18.000  \n1        1  2018-12-01 10:12:41.000  \n2        1  2019-12-03 20:33:17.000  \n3        0  2019-11-18 17:10:36.000  \n4       17  2015-11-22 01:28:30.000  ",
      "text/html": "<div>\n<style scoped>\n    .dataframe tbody tr th:only-of-type {\n        vertical-align: middle;\n    }\n\n    .dataframe tbody tr th {\n        vertical-align: top;\n    }\n\n    .dataframe thead th {\n        text-align: right;\n    }\n</style>\n<table border=\"1\" class=\"dataframe\">\n  <thead>\n    <tr style=\"text-align: right;\">\n      <th></th>\n      <th>tags</th>\n      <th>id</th>\n      <th>plylst_title</th>\n      <th>songs</th>\n      <th>like_cnt</th>\n      <th>updt_date</th>\n    </tr>\n  </thead>\n  <tbody>\n    <tr>\n      <th>0</th>\n      <td>[연말, 눈오는날, 캐럴, 분위기, 따듯한, 크리스마스캐럴, 겨울노래, 크리스마스,...</td>\n      <td>147456</td>\n      <td>크리스마스 분위기에 흠뻑 취하고 싶을때</td>\n      <td>[394031, 195524, 540149, 287984, 440773, 10033...</td>\n      <td>33</td>\n      <td>2019-12-05 15:15:18.000</td>\n    </tr>\n    <tr>\n      <th>1</th>\n      <td>[겨울, 크리스마스, 캐롤]</td>\n      <td>43665</td>\n      <td>크리스마스를 책임질 캐롤 모음</td>\n      <td>[273672, 358186, 657321, 610130, 387284, 51860...</td>\n      <td>1</td>\n      <td>2018-12-01 10:12:41.000</td>\n    </tr>\n    <tr>\n      <th>2</th>\n      <td>[분위기좋은, 크리스마스]</td>\n      <td>60192</td>\n      <td>느낌있는 크리스마스 쏭</td>\n      <td>[187632, 432118, 557519, 423058, 387647, 61771...</td>\n      <td>1</td>\n      <td>2019-12-03 20:33:17.000</td>\n    </tr>\n    <tr>\n      <th>3</th>\n      <td>[휴식, 기분전환]</td>\n      <td>101383</td>\n      <td>크리스마스9</td>\n      <td>[405485, 381653, 566122, 546313, 158539, 68697...</td>\n      <td>0</td>\n      <td>2019-11-18 17:10:36.000</td>\n    </tr>\n    <tr>\n      <th>4</th>\n      <td>[겨울]</td>\n      <td>43159</td>\n      <td>미리 메리 크리스마스</td>\n      <td>[326204, 174967, 117169, 703323, 638488, 59252...</td>\n      <td>17</td>\n      <td>2015-11-22 01:28:30.000</td>\n    </tr>\n  </tbody>\n</table>\n</div>"
     },
     "execution_count": 46,
     "metadata": {},
     "output_type": "execute_result"
    }
   ],
   "source": [
    "# del playlist_train['Index'];\n",
    "playlist_train.head()"
   ],
   "metadata": {
    "collapsed": false,
    "pycharm": {
     "name": "#%%\n"
    }
   }
  },
  {
   "cell_type": "code",
   "execution_count": 48,
   "outputs": [
    {
     "data": {
      "text/plain": "     song_gn_dtl_gnr_basket issue_date                          album_name  \\\n0  [GN1601, GN1615, GN1610]   20171006      Christmas at Westminster Abbey   \n1  [GN1701, GN1703, GN1702]   20121109  Christmas (Deluxe Special Edition)   \n2                  [GN0101]   20190408                                있어줄래   \n3          [GN0105, GN0101]   20121204                       WINTER POETRY   \n4          [GN1304, GN1301]   20110810                        Simple Steps   \n\n   album_id         artist_id_basket  \\\n0  10104201  [345328, 36652, 347399]   \n1   2167838                  [35370]   \n2  10271322                 [500421]   \n3   2169041                   [1741]   \n4   2058451                 [614091]   \n\n                                           song_name song_gn_gnr_basket  \\\n0  Anonymous: Up! Awake! From Highest Steeple - A...           [GN1600]   \n1           Mis Deseos / Feliz Navidad (with Thalia)           [GN1700]   \n2                                               있어줄래           [GN0100]   \n3                                       너에게 전하지 못한 말           [GN0100]   \n4                                      Rollercoaster           [GN1300]   \n\n                                  artist_name_basket  id  \n0  [Choir Of Westminster Abbey, Simon Preston, Ch...  23  \n1                                    [Michael Buble]  41  \n2                                             [길구봉구]  54  \n3                                              [신혜성]  70  \n4                                          [Sam Ock]  71  ",
      "text/html": "<div>\n<style scoped>\n    .dataframe tbody tr th:only-of-type {\n        vertical-align: middle;\n    }\n\n    .dataframe tbody tr th {\n        vertical-align: top;\n    }\n\n    .dataframe thead th {\n        text-align: right;\n    }\n</style>\n<table border=\"1\" class=\"dataframe\">\n  <thead>\n    <tr style=\"text-align: right;\">\n      <th></th>\n      <th>song_gn_dtl_gnr_basket</th>\n      <th>issue_date</th>\n      <th>album_name</th>\n      <th>album_id</th>\n      <th>artist_id_basket</th>\n      <th>song_name</th>\n      <th>song_gn_gnr_basket</th>\n      <th>artist_name_basket</th>\n      <th>id</th>\n    </tr>\n  </thead>\n  <tbody>\n    <tr>\n      <th>0</th>\n      <td>[GN1601, GN1615, GN1610]</td>\n      <td>20171006</td>\n      <td>Christmas at Westminster Abbey</td>\n      <td>10104201</td>\n      <td>[345328, 36652, 347399]</td>\n      <td>Anonymous: Up! Awake! From Highest Steeple - A...</td>\n      <td>[GN1600]</td>\n      <td>[Choir Of Westminster Abbey, Simon Preston, Ch...</td>\n      <td>23</td>\n    </tr>\n    <tr>\n      <th>1</th>\n      <td>[GN1701, GN1703, GN1702]</td>\n      <td>20121109</td>\n      <td>Christmas (Deluxe Special Edition)</td>\n      <td>2167838</td>\n      <td>[35370]</td>\n      <td>Mis Deseos / Feliz Navidad (with Thalia)</td>\n      <td>[GN1700]</td>\n      <td>[Michael Buble]</td>\n      <td>41</td>\n    </tr>\n    <tr>\n      <th>2</th>\n      <td>[GN0101]</td>\n      <td>20190408</td>\n      <td>있어줄래</td>\n      <td>10271322</td>\n      <td>[500421]</td>\n      <td>있어줄래</td>\n      <td>[GN0100]</td>\n      <td>[길구봉구]</td>\n      <td>54</td>\n    </tr>\n    <tr>\n      <th>3</th>\n      <td>[GN0105, GN0101]</td>\n      <td>20121204</td>\n      <td>WINTER POETRY</td>\n      <td>2169041</td>\n      <td>[1741]</td>\n      <td>너에게 전하지 못한 말</td>\n      <td>[GN0100]</td>\n      <td>[신혜성]</td>\n      <td>70</td>\n    </tr>\n    <tr>\n      <th>4</th>\n      <td>[GN1304, GN1301]</td>\n      <td>20110810</td>\n      <td>Simple Steps</td>\n      <td>2058451</td>\n      <td>[614091]</td>\n      <td>Rollercoaster</td>\n      <td>[GN1300]</td>\n      <td>[Sam Ock]</td>\n      <td>71</td>\n    </tr>\n  </tbody>\n</table>\n</div>"
     },
     "execution_count": 48,
     "metadata": {},
     "output_type": "execute_result"
    }
   ],
   "source": [
    "# del carol_data['Index'];\n",
    "carol_data.head()"
   ],
   "metadata": {
    "collapsed": false,
    "pycharm": {
     "name": "#%%\n"
    }
   }
  },
  {
   "cell_type": "code",
   "execution_count": 6,
   "outputs": [],
   "source": [
    "# data와 파일 이름을 주면 data폴더 밑에 json파일이 생성!\n",
    "def write_json(data, fname):\n",
    "    def _conv(o):\n",
    "        if isinstance(o, np.int64) or isinstance(o, np.int32): # isinstance: o라는 객체가 numpy배열 int64타입에 속해있는지 확인\n",
    "            return int(o)\n",
    "        raise TypeError # 속해있지 않다면 type error발생\n",
    "\n",
    "    parent = os.path.dirname(fname) # 부모 directory 경로 설정 (fname이 'test/test.json이면 test를 리턴!)\n",
    "    distutils.dir_util.mkpath(\"../../data/processed/\" + parent) # 새로운 경로 만들기(data폴더 밑에 parent 폴더 추가!)\n",
    "    with io.open(\"../../data/processed/\" + fname, \"w\", encoding=\"utf8\") as f:\n",
    "        json_str = json.dumps(data, ensure_ascii=False, default=_conv)\n",
    "        f.write(json_str)\n",
    "def debug_json(r):\n",
    "    print(json.dumps(r, ensure_ascii=False, indent=4))"
   ],
   "metadata": {
    "collapsed": false,
    "pycharm": {
     "name": "#%%\n"
    }
   }
  },
  {
   "cell_type": "code",
   "execution_count": 74,
   "outputs": [],
   "source": [
    "write_json(playlist_train.to_json(orient = 'records'), 'playlist_train.json')\n",
    "write_json(carol_data.to_json(orient = 'records'), 'carol_data.json')"
   ],
   "metadata": {
    "collapsed": false,
    "pycharm": {
     "name": "#%%\n"
    }
   }
  }
 ],
 "metadata": {
  "kernelspec": {
   "display_name": "Python 3",
   "language": "python",
   "name": "python3"
  },
  "language_info": {
   "codemirror_mode": {
    "name": "ipython",
    "version": 3
   },
   "file_extension": ".py",
   "mimetype": "text/x-python",
   "name": "python",
   "nbconvert_exporter": "python",
   "pygments_lexer": "ipython3",
   "version": "3.8.5"
  }
 },
 "nbformat": 4,
 "nbformat_minor": 4
}